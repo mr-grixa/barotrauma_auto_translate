{
 "cells": [
  {
   "cell_type": "code",
   "execution_count": 1,
   "id": "c01a5a40-433a-4816-9d1a-cbdac001af0e",
   "metadata": {},
   "outputs": [
    {
     "name": "stdout",
     "output_type": "stream",
     "text": [
      "Найдено 128 модов.\n",
      "2559634234 — Lua For Barotrauma\n",
      "2795927223 — CsForBarotrauma\n",
      "2701251094 — Performance Fix\n",
      "3329396988 — NetworkTweaks\n",
      "2807566753 — Dont Open Debug Console On Errors\n"
     ]
    }
   ],
   "source": [
    "# Блок 1 — Чтение XML и получение ID\n",
    "import xml.etree.ElementTree as ET\n",
    "\n",
    "def parse_mod_ids(xml_path):\n",
    "    tree = ET.parse(xml_path)\n",
    "    root = tree.getroot()\n",
    "    mods = []\n",
    "    for workshop in root.findall(\"Workshop\"):\n",
    "        mod_id = workshop.get(\"id\")\n",
    "        name = workshop.get(\"name\")\n",
    "        if mod_id:\n",
    "            mods.append((mod_id, name))\n",
    "    return mods\n",
    "\n",
    "# 🔧 Укажи путь к XML-файлу\n",
    "xml_file = r\"C:\\Program Files (x86)\\Steam\\steamapps\\common\\Barotrauma\\ModLists\\Модное V8.xml\"\n",
    "\n",
    "# ✅ Тест: загрузка и вывод ID\n",
    "mods = parse_mod_ids(xml_file)\n",
    "print(f\"Найдено {len(mods)} модов.\")\n",
    "for mod_id, name in mods[:5]:  # первые 5 для примера\n",
    "    print(f\"{mod_id} — {name}\")"
   ]
  },
  {
   "cell_type": "code",
   "execution_count": 2,
   "id": "03757bc1-53f2-4662-89e3-efde27d73bbd",
   "metadata": {},
   "outputs": [
    {
     "name": "stdout",
     "output_type": "stream",
     "text": [
      "🔷 Моды только в первом списке:\n",
      "3074045632 — Immersive Diving Gear\n",
      "2811300302 — BetterFabricatorUI\n",
      "2984452754 — DynamicEuropa - COL Compatibility Patch\n",
      "3028141718 — Combat Overhaul Legacy\n",
      "2946617451 — Unoculus (Subtitles n Real Silent Update)\n",
      "2636444311 — EK_Berith_Mk-II\n",
      "3404418999 — Ragdoll Cam\n",
      "3045796581 — Enhanced Reactors\n",
      "3409864551 — Hydroponics Patched with Cigarettes fixed rubber and Sulphur\n",
      "3074073458 — Immersive Diving Gear - Real Sonar Compatibility Patch\n",
      "2856758496 — Lua For Barotrauma (with xpath patch)\n",
      "\n",
      "🔶 Моды только во втором списке:\n"
     ]
    },
    {
     "ename": "NameError",
     "evalue": "name 'mods2' is not defined",
     "output_type": "error",
     "traceback": [
      "\u001b[31m---------------------------------------------------------------------------\u001b[39m",
      "\u001b[31mNameError\u001b[39m                                 Traceback (most recent call last)",
      "\u001b[36mCell\u001b[39m\u001b[36m \u001b[39m\u001b[32mIn[2]\u001b[39m\u001b[32m, line 25\u001b[39m\n\u001b[32m     23\u001b[39m \u001b[38;5;28mprint\u001b[39m(\u001b[33m\"\u001b[39m\u001b[38;5;130;01m\\n\u001b[39;00m\u001b[33m🔶 Моды только во втором списке:\u001b[39m\u001b[33m\"\u001b[39m)\n\u001b[32m     24\u001b[39m \u001b[38;5;28;01mfor\u001b[39;00m mod_id \u001b[38;5;129;01min\u001b[39;00m only_in_2:\n\u001b[32m---> \u001b[39m\u001b[32m25\u001b[39m     name = \u001b[38;5;28mnext\u001b[39m(name \u001b[38;5;28;01mfor\u001b[39;00m mid, name \u001b[38;5;129;01min\u001b[39;00m \u001b[43mmods2\u001b[49m \u001b[38;5;28;01mif\u001b[39;00m mid == mod_id)\n\u001b[32m     26\u001b[39m     \u001b[38;5;28mprint\u001b[39m(\u001b[33mf\u001b[39m\u001b[33m\"\u001b[39m\u001b[38;5;132;01m{\u001b[39;00mmod_id\u001b[38;5;132;01m}\u001b[39;00m\u001b[33m — \u001b[39m\u001b[38;5;132;01m{\u001b[39;00mname\u001b[38;5;132;01m}\u001b[39;00m\u001b[33m\"\u001b[39m)\n",
      "\u001b[31mNameError\u001b[39m: name 'mods2' is not defined"
     ]
    }
   ],
   "source": [
    "# Блок 1 — Чтение XML и получение ID вторая \n",
    "import xml.etree.ElementTree as ET\n",
    "\n",
    "# 🔧 Укажи путь к XML-файлу\n",
    "xml_file = r\"C:\\Program Files (x86)\\Steam\\steamapps\\common\\Barotrauma\\ModLists\\Модное без Нейротравмы V5.xml\"\n",
    "\n",
    "# ✅ Тест: загрузка и вывод ID\n",
    "mods1 = parse_mod_ids(xml_file)\n",
    "\n",
    "mod_ids1 = set(mod_id for mod_id, _ in mods1)\n",
    "mod_ids2 = set(mod_id for mod_id, _ in mods)\n",
    "\n",
    "# Моды, которые есть в первом, но нет во втором\n",
    "only_in_1 = mod_ids1 - mod_ids2\n",
    "# Моды, которые есть во втором, но нет в первом\n",
    "only_in_2 = mod_ids2 - mod_ids1\n",
    "\n",
    "print(\"🔷 Моды только в первом списке:\")\n",
    "for mod_id in only_in_1:\n",
    "    name = next(name for mid, name in mods1 if mid == mod_id)\n",
    "    print(f\"{mod_id} — {name}\")\n",
    "\n",
    "print(\"\\n🔶 Моды только во втором списке:\")\n",
    "for mod_id in only_in_2:\n",
    "    name = next(name for mid, name in mods2 if mid == mod_id)\n",
    "    print(f\"{mod_id} — {name}\")\n"
   ]
  },
  {
   "cell_type": "code",
   "execution_count": 3,
   "id": "21a29502-be58-47e4-b86f-e34b8e5c4749",
   "metadata": {},
   "outputs": [
    {
     "name": "stdout",
     "output_type": "stream",
     "text": [
      "=== Lua For Barotrauma ===\n",
      "Создано: 2021-07-28 16:10:35\n",
      "Обновлено: 2025-04-29 19:33:49\n",
      "Видимость: 0 | Забанен: Нет\n",
      "Просмотры: 389897\n",
      "Подписки: 489586 (всего: 554259)\n",
      "Избранное: 16579 (всего: 17741)\n",
      "Теги: Total conversion\n",
      "\n",
      "Описание:\n",
      "[h1]Updated for the Calm Before The Storm v1.8.8.1[/h1]\n",
      "[h3]Discord: https://discord.gg/f9zvNNuxu9[/h3]\n",
      "[h3]Consider supporting the project:[/h3]\n",
      "[h3]https://patreon.com/Evil_Factory[/h3]\n",
      "[h3]https://github.com/sponsors/evilfactory[/h3]\n",
      "\n",
      "This is a Barotrauma modification that adds Lua modding, and [b]optional[/b] CSharp modding, this is not a direct replacement for xml, but works great in doing things that weren't possible in xml.\n",
      "\n",
      "[hr]\n",
      "\n",
      "[h2]Some Info[/h2]\n",
      "Client-side mods run on your game client, whether you're playing singleplayer or joining a server. Server-side mods run on the server, which applies when you're hosting, meaning both client and server mods are active.\n",
      "\n",
      "It's important to know that some mods require only server-side, some only client-side, and some both. If you don't have the necessary client-side mod, some features might be disabled, or the mod might not work properly. For example, [b]Neurotrauma[/b] works in multiplayer with only server-side installed, b...\n"
     ]
    }
   ],
   "source": [
    "import requests\n",
    "from datetime import datetime\n",
    "\n",
    "def fetch_single_mod(mod_id):\n",
    "    url = \"https://api.steampowered.com/ISteamRemoteStorage/GetPublishedFileDetails/v1/\"\n",
    "    data = {\n",
    "        \"itemcount\": 1,\n",
    "        \"publishedfileids[0]\": mod_id\n",
    "    }\n",
    "    response = requests.post(url, data=data)\n",
    "    response.raise_for_status()\n",
    "    result = response.json()[\"response\"][\"publishedfiledetails\"][0]\n",
    "    return result\n",
    "\n",
    "def format_unix(timestamp):\n",
    "    return datetime.utcfromtimestamp(timestamp).strftime('%Y-%m-%d %H:%M:%S')\n",
    "\n",
    "# ✅ Тест на одном ID\n",
    "test_mod_id = mods[0][0]\n",
    "mod_data = fetch_single_mod(test_mod_id)\n",
    "\n",
    "# 📋 Извлекаем поля\n",
    "title = mod_data.get(\"title\", \"Без названия\")\n",
    "description = mod_data.get(\"description\", \"\").strip()\n",
    "created = format_unix(mod_data.get(\"time_created\", 0))\n",
    "updated = format_unix(mod_data.get(\"time_updated\", 0))\n",
    "subscriptions = mod_data.get(\"subscriptions\", 0)\n",
    "favorites = mod_data.get(\"favorited\", 0)\n",
    "lifetime_subs = mod_data.get(\"lifetime_subscriptions\", 0)\n",
    "lifetime_fav = mod_data.get(\"lifetime_favorited\", 0)\n",
    "views = mod_data.get(\"views\", 0)\n",
    "visibility = mod_data.get(\"visibility\", 0)\n",
    "banned = mod_data.get(\"banned\", 0)\n",
    "tags = [tag[\"tag\"] for tag in mod_data.get(\"tags\", [])]\n",
    "\n",
    "# ✅ Форматированный вывод\n",
    "print(f\"=== {title} ===\")\n",
    "print(f\"Создано: {created}\")\n",
    "print(f\"Обновлено: {updated}\")\n",
    "print(f\"Видимость: {visibility} | Забанен: {'Да' if banned else 'Нет'}\")\n",
    "print(f\"Просмотры: {views}\")\n",
    "print(f\"Подписки: {subscriptions} (всего: {lifetime_subs})\")\n",
    "print(f\"Избранное: {favorites} (всего: {lifetime_fav})\")\n",
    "print(f\"Теги: {', '.join(tags)}\")\n",
    "print(\"\\nОписание:\\n\" + description[:1000] + (\"...\" if len(description) > 1000 else \"\"))\n"
   ]
  },
  {
   "cell_type": "code",
   "execution_count": 4,
   "id": "ad7a56a9-7a85-4d2b-8335-2d809a5f5b81",
   "metadata": {},
   "outputs": [
    {
     "name": "stdout",
     "output_type": "stream",
     "text": [
      "Получено 128 описаний модов.\n"
     ]
    }
   ],
   "source": [
    "import time\n",
    "\n",
    "def fetch_all_mod_details(mods):\n",
    "    url = \"https://api.steampowered.com/ISteamRemoteStorage/GetPublishedFileDetails/v1/\"\n",
    "    all_data = {}\n",
    "    chunk_size = 100\n",
    "    for i in range(0, len(mods), chunk_size):\n",
    "        chunk = mods[i:i+chunk_size]\n",
    "        data = {\"itemcount\": len(chunk)}\n",
    "        for idx, (mod_id, _) in enumerate(chunk):\n",
    "            data[f\"publishedfileids[{idx}]\"] = mod_id\n",
    "        response = requests.post(url, data=data)\n",
    "        response.raise_for_status()\n",
    "        results = response.json()[\"response\"][\"publishedfiledetails\"]\n",
    "        for original, mod in zip(chunk, results):\n",
    "            mod_id, fallback_name = original\n",
    "            all_data[mod_id] = mod\n",
    "        time.sleep(1)  # чтобы не упереться в лимит Steam\n",
    "    return all_data\n",
    "\n",
    "# ✅ Получаем все данные\n",
    "mod_data_dict = fetch_all_mod_details(mods)\n",
    "print(f\"Получено {len(mod_data_dict)} описаний модов.\")\n",
    "\n"
   ]
  },
  {
   "cell_type": "code",
   "execution_count": 5,
   "id": "1c32b089-a5d8-4cf9-ab2d-43975a132ecf",
   "metadata": {},
   "outputs": [
    {
     "name": "stdout",
     "output_type": "stream",
     "text": [
      "Сохранено в файл: steam_mods_full_info.txt\n"
     ]
    }
   ],
   "source": [
    "from datetime import datetime\n",
    "\n",
    "def format_unix(timestamp):\n",
    "    return datetime.utcfromtimestamp(timestamp).strftime('%Y-%m-%d %H:%M:%S')\n",
    "\n",
    "def save_full_mod_info(mod_data_dict, output_path):\n",
    "    with open(output_path, \"w\", encoding=\"utf-8\") as f:\n",
    "        for mod_id, data in mod_data_dict.items():\n",
    "            title = data.get(\"title\", f\"Мод {mod_id}\")\n",
    "            description = data.get(\"description\", \"\").strip()\n",
    "            created = format_unix(data.get(\"time_created\", 0))\n",
    "            updated = format_unix(data.get(\"time_updated\", 0))\n",
    "            subscriptions = data.get(\"subscriptions\", 0)\n",
    "            lifetime_subs = data.get(\"lifetime_subscriptions\", 0)\n",
    "            favorited = data.get(\"favorited\", 0)\n",
    "            lifetime_fav = data.get(\"lifetime_favorited\", 0)\n",
    "            views = data.get(\"views\", 0)\n",
    "            tags = [tag[\"tag\"] for tag in data.get(\"tags\", [])]\n",
    "\n",
    "            f.write(f\"=== {title} ===\\n\")\n",
    "            f.write(f\"ID: {mod_id}\\n\")\n",
    "            f.write(f\"Создано: {created}\\n\")\n",
    "            f.write(f\"Обновлено: {updated}\\n\")\n",
    "            f.write(f\"Просмотры: {views}\\n\")\n",
    "            f.write(f\"Подписки: {subscriptions} (всего: {lifetime_subs})\\n\")\n",
    "            f.write(f\"Избранное: {favorited} (всего: {lifetime_fav})\\n\")\n",
    "            f.write(f\"Теги: {', '.join(tags)}\\n\\n\")\n",
    "            f.write(description + \"\\n\\n\\n\")\n",
    "\n",
    "# ✅ Сохраняем в файл\n",
    "output_file = \"steam_mods_full_info.txt\"\n",
    "save_full_mod_info(mod_data_dict, output_file)\n",
    "print(f\"Сохранено в файл: {output_file}\")\n"
   ]
  },
  {
   "cell_type": "code",
   "execution_count": null,
   "id": "a633918a-8357-4f77-a568-6541ca221504",
   "metadata": {},
   "outputs": [],
   "source": []
  }
 ],
 "metadata": {
  "kernelspec": {
   "display_name": "Python 3 (ipykernel)",
   "language": "python",
   "name": "python3"
  },
  "language_info": {
   "codemirror_mode": {
    "name": "ipython",
    "version": 3
   },
   "file_extension": ".py",
   "mimetype": "text/x-python",
   "name": "python",
   "nbconvert_exporter": "python",
   "pygments_lexer": "ipython3",
   "version": "3.11.13"
  }
 },
 "nbformat": 4,
 "nbformat_minor": 5
}
